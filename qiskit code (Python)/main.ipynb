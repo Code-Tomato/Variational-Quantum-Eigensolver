{
 "cells": [
  {
   "cell_type": "code",
   "execution_count": null,
   "metadata": {},
   "outputs": [],
   "source": [
    "from qiskit import QuantumCircuit, ClassicalRegister, QuantumRegister\n",
    "from qiskit import execute\n",
    "from qiskit import Aer\n",
    "import numpy as np\n",
    "\n",
    "def VQE(numberOfQubits, theta, epsilon):\n",
    "\n",
    "    #theta is an initial angle\n",
    "    #epsilon is target standard error \n",
    "    register = QuantumRegister(numberOfQubits)\n",
    "    circuit = QuantumCircuit(register)\n",
    "    \n",
    "\n",
    "    #This b should be true until optimizer reaches some value\n",
    "    b = False\n",
    "    while (b):\n",
    "        thetaH = {}\n",
    "        for i in range(numberOfQubits^4):\n",
    "            #dictionary to store theta and expectation energy values\n",
    "            totalH = 0.00\n",
    "            numberOfIterations = 0\n",
    "\n",
    "            #prepare state function of theta[i]\n",
    "            for qubit in register:\n",
    "                circuit.rx(theta, qubit)\n",
    "                circuit.ry(theta, qubit)\n",
    "\n",
    "            #entangled anzatz states preparation\n",
    "            for k in range(len(register) - 1):\n",
    "                circuit.cx(register[k], register[k+1])\n",
    "                \n",
    "            #Measeurement algorithm for energy\n",
    "            # measurement = ClassicalRegister(numberOfQubits)\n",
    "            # circuit.measure(input, measurement)\n",
    "            # simulator = Aer.get_backend('aer_simulator')\n",
    "            # simulation = execute(circuit, simulator, shots=(1/epsilon)^2)\n",
    "            # mresult = simulation.result()\n",
    "            # counts = mresult.get_counts(circuit)\n",
    "            # for(measured_state, count) in counts.items():\n",
    "            #     for i in measured_state:\n",
    "                    \n",
    "            numberOfIterations += 1\n",
    "            #totalH += Measurement\n",
    "            expectationValue = totalH / numberOfIterations\n",
    "        thetaH[theta] = expectationValue\n",
    "        #find newtheta from optimizer\n",
    "    return thetaH\n",
    "      \n",
    "    \n",
    "\n"
   ]
  }
 ],
 "metadata": {
  "kernelspec": {
   "display_name": "Python 3.10.1 64-bit",
   "language": "python",
   "name": "python3"
  },
  "language_info": {
   "name": "python",
   "version": "3.10.1"
  },
  "orig_nbformat": 4,
  "vscode": {
   "interpreter": {
    "hash": "9f0d103aebe82dfbb47ec724a2ca4fd3dcb0c9038207abb072b7913218171667"
   }
  }
 },
 "nbformat": 4,
 "nbformat_minor": 2
}
