{
 "cells": [
  {
   "cell_type": "code",
   "execution_count": 6,
   "metadata": {},
   "outputs": [
    {
     "ename": "ModuleNotFoundError",
     "evalue": "No module named 'pennylane'",
     "output_type": "error",
     "traceback": [
      "\u001b[1;31m---------------------------------------------------------------------------\u001b[0m",
      "\u001b[1;31mModuleNotFoundError\u001b[0m                       Traceback (most recent call last)",
      "\u001b[1;32mc:\\Users\\karen\\OneDrive\\Desktop\\Variational-Quantum-Eigensolver\\qiskit code (Python)\\main.ipynb Cell 2\u001b[0m in \u001b[0;36m<cell line: 1>\u001b[1;34m()\u001b[0m\n\u001b[1;32m----> <a href='vscode-notebook-cell:/c%3A/Users/karen/OneDrive/Desktop/Variational-Quantum-Eigensolver/qiskit%20code%20%28Python%29/main.ipynb#ch0000000?line=0'>1</a>\u001b[0m \u001b[39mimport\u001b[39;00m \u001b[39mpennylane\u001b[39;00m \u001b[39mas\u001b[39;00m \u001b[39mqml\u001b[39;00m\n\u001b[0;32m      <a href='vscode-notebook-cell:/c%3A/Users/karen/OneDrive/Desktop/Variational-Quantum-Eigensolver/qiskit%20code%20%28Python%29/main.ipynb#ch0000000?line=1'>2</a>\u001b[0m \u001b[39mfrom\u001b[39;00m \u001b[39mpennylane\u001b[39;00m \u001b[39mimport\u001b[39;00m numpy \u001b[39mas\u001b[39;00m np\n\u001b[0;32m      <a href='vscode-notebook-cell:/c%3A/Users/karen/OneDrive/Desktop/Variational-Quantum-Eigensolver/qiskit%20code%20%28Python%29/main.ipynb#ch0000000?line=3'>4</a>\u001b[0m symbols \u001b[39m=\u001b[39m [\u001b[39m\"\u001b[39m\u001b[39mH\u001b[39m\u001b[39m\"\u001b[39m, \u001b[39m\"\u001b[39m\u001b[39mH\u001b[39m\u001b[39m\"\u001b[39m]\n",
      "\u001b[1;31mModuleNotFoundError\u001b[0m: No module named 'pennylane'"
     ]
    }
   ],
   "source": [
    "from pennylane import numpy as np\n",
    "import pennylane as qml\n",
    "\n",
    "symbols = [\"H\", \"H\"]\n",
    "coordinates = np.array([0.0, 0.0, -0.6614, 0.0, 0.0, 0.6614])\n",
    "\n",
    "H, qubits = qml.qchem.molecular_hamiltonian(symbols, coordinates)\n",
    "print(\"Number of qubits = \", qubits)\n",
    "print(\"The Hamiltonian is \", H)"
   ]
  }
 ],
 "metadata": {
  "kernelspec": {
   "display_name": "Python 3.9.12 ('base')",
   "language": "python",
   "name": "python3"
  },
  "language_info": {
   "codemirror_mode": {
    "name": "ipython",
    "version": 3
   },
   "file_extension": ".py",
   "mimetype": "text/x-python",
   "name": "python",
   "nbconvert_exporter": "python",
   "pygments_lexer": "ipython3",
   "version": "3.9.12"
  },
  "orig_nbformat": 4,
  "vscode": {
   "interpreter": {
    "hash": "21cf86d11e40685bdf02511d449aa0705537871041748e4d95aac0bec6ac973f"
   }
  }
 },
 "nbformat": 4,
 "nbformat_minor": 2
}
